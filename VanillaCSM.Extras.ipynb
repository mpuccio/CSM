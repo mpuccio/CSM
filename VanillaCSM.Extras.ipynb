{
 "cells": [
  {
   "cell_type": "markdown",
   "metadata": {},
   "source": [
    "Computes Vanilla CSM model hadron yield ratios that are not normalized to the high-multiplicity limit. Also outputs (dNch/dy) and (dNch/dEta), under the assumption (dNch/dEta) = (dNch/dy) / 1.2 (see https://arxiv.org/abs/1908.02792)"
   ]
  },
  {
   "cell_type": "code",
   "execution_count": 1,
   "metadata": {},
   "outputs": [
    {
     "name": "stdout",
     "output_type": "stream",
     "text": [
      "###############################################################################\n",
      "#                                                                             #\n",
      "# This is Thermal-FIST version 1.2.2                                          #\n",
      "#                                                                             #\n",
      "# Copyright (c) 2019 Volodymyr Vovchenko <vovchenko@fias.uni-frankfurt.de>    #\n",
      "#                                                                             #\n",
      "# Distributed under the GNU General Public License 3.0 (GPLv3 or later)       #\n",
      "#                                                                             #\n",
      "# Please cite when using this code:                                           #\n",
      "# V. Vovchenko, H. Stoecker, arXiv:1901.05249 [nucl-th]                       #\n",
      "#                                                                             #\n",
      "# The latest version is available at https://github.com/vlvovch/Thermal-FIST  #\n",
      "#                                                                             #\n",
      "###############################################################################\n",
      "\n"
     ]
    }
   ],
   "source": [
    "#include \"inc/loadFISTlibs.h\""
   ]
  },
  {
   "cell_type": "code",
   "execution_count": 2,
   "metadata": {},
   "outputs": [],
   "source": [
    "using namespace std;"
   ]
  },
  {
   "cell_type": "code",
   "execution_count": 3,
   "metadata": {},
   "outputs": [],
   "source": [
    "using namespace thermalfist;"
   ]
  },
  {
   "cell_type": "code",
   "execution_count": 4,
   "metadata": {},
   "outputs": [],
   "source": [
    "bool useWidth  = true;\n",
    "bool useQStats = true;\n",
    "\n",
    "double Tch = 0.155;"
   ]
  },
  {
   "cell_type": "code",
   "execution_count": 5,
   "metadata": {},
   "outputs": [],
   "source": [
    "// Particle list\n",
    "//ThermalParticleSystem parts(string(INPUT_FOLDER) + \"/list/PDG2014/list-withnuclei.dat\");\n",
    "ThermalParticleSystem parts(string(INPUT_FOLDER) + \"/list/PDG2014/list.dat\");"
   ]
  },
  {
   "cell_type": "markdown",
   "metadata": {},
   "source": [
    "Fill the list of the considered hadron yield ratios"
   ]
  },
  {
   "cell_type": "code",
   "execution_count": 6,
   "metadata": {},
   "outputs": [],
   "source": [
    "vector<int> pdgs1, pdgs2;\n",
    "vector<string> names1, names2;\n",
    "\n",
    "names1.push_back(\"K\");\n",
    "names2.push_back(\"pi\");\n",
    "pdgs1.push_back(321);\n",
    "pdgs2.push_back(211);\n",
    "\n",
    "names1.push_back(\"Xi\");\n",
    "names2.push_back(\"pi\");\n",
    "pdgs1.push_back(3312);\n",
    "pdgs2.push_back(211);\n",
    "\n",
    "names1.push_back(\"phi\");\n",
    "names2.push_back(\"pi\");\n",
    "pdgs1.push_back(333);\n",
    "pdgs2.push_back(211);\n",
    "\n",
    "names1.push_back(\"p\");\n",
    "names2.push_back(\"pi\");\n",
    "pdgs1.push_back(2212);\n",
    "pdgs2.push_back(211);\n",
    "\n",
    "names1.push_back(\"Om\");\n",
    "names2.push_back(\"pi\");\n",
    "pdgs1.push_back(3334);\n",
    "pdgs2.push_back(211);\n",
    "\n",
    "names1.push_back(\"La\");\n",
    "names2.push_back(\"pi\");\n",
    "pdgs1.push_back(3122);\n",
    "pdgs2.push_back(211);\n",
    "\n",
    "names1.push_back(\"K*\");\n",
    "names2.push_back(\"pi\");\n",
    "pdgs1.push_back(323);\n",
    "pdgs2.push_back(211);"
   ]
  },
  {
   "cell_type": "markdown",
   "metadata": {},
   "source": [
    "Compute the limiting GCE yield ratios values"
   ]
  },
  {
   "cell_type": "code",
   "execution_count": 7,
   "metadata": {},
   "outputs": [],
   "source": [
    "vector<double> ratiosGCE;\n",
    "{\n",
    "    ThermalModelIdeal modelgce(&parts);\n",
    "\n",
    "    if (useWidth)\n",
    "        modelgce.SetUseWidth(ThermalParticle::eBW);\n",
    "    else\n",
    "        modelgce.SetUseWidth(ThermalParticle::ZeroWidth);\n",
    "    modelgce.SetStatistics(useQStats);\n",
    "    // Include quantum statistics for mesons only\n",
    "    if (useQStats){\n",
    "        for (int i = 0; i < modelgce.TPS()->Particles().size(); ++i) {\n",
    "            ThermalParticle &part = modelgce.TPS()->Particle(i);\n",
    "            if (part.BaryonCharge() != 0)\n",
    "                part.UseStatistics(false);\n",
    "        }\n",
    "    }\n",
    "\n",
    "    modelgce.SetTemperature(Tch);\n",
    "    modelgce.SetBaryonChemicalPotential(0.);\n",
    "    modelgce.SetElectricChemicalPotential(0.);\n",
    "    modelgce.SetStrangenessChemicalPotential(0.);\n",
    "\n",
    "    modelgce.FillChemicalPotentials();\n",
    "\n",
    "    modelgce.CalculateDensities();\n",
    "\n",
    "    for (int i = 0; i < names1.size(); ++i) {\n",
    "        ratiosGCE.push_back(modelgce.GetDensity(pdgs1[i], 1) / modelgce.GetDensity(pdgs2[i], 1));\n",
    "    }\n",
    "}"
   ]
  },
  {
   "cell_type": "markdown",
   "metadata": {},
   "source": [
    "Prepare the output (on the screen and to a file)"
   ]
  },
  {
   "cell_type": "code",
   "execution_count": 8,
   "metadata": {},
   "outputs": [],
   "source": [
    "vector<std::ostream*> outs;\n",
    "outs.push_back(&std::cout);\n",
    "\n",
    "outs.push_back(NULL);"
   ]
  },
  {
   "cell_type": "markdown",
   "metadata": {},
   "source": [
    "Routine performing the (logarithmic scale) scan over Vc and dNpi/dy.\n",
    "\n",
    "Parameter k determines Vc = k dV/dy"
   ]
  },
  {
   "cell_type": "code",
   "execution_count": 9,
   "metadata": {},
   "outputs": [],
   "source": [
    "void PerformScan(ThermalModelBase *model, \n",
    "                   double k,\n",
    "                   const string& filename)\n",
    "{\n",
    "    ofstream fout(filename);\n",
    "    outs[1] = &fout;\n",
    "    \n",
    "    for(std::ostream* out : outs) {\n",
    "        *out << setw(15) << \"dNpipm/dy\";\n",
    "        *out << setw(15) << \"Vc[fm3]\";\n",
    "        *out << setw(15) << \"dNch/dy\";\n",
    "        *out << setw(15) << \"dNch/deta\";\n",
    "\n",
    "        for (int i = 0; i < names1.size(); ++i) {\n",
    "            *out << setw(15) << \"(\" + (names1[i] + \"/\" + names2[i]) + \")toHML\";\n",
    "        }\n",
    "\n",
    "        *out << endl;\n",
    "    }\n",
    "    \n",
    "    double Vmin = 1. * k;\n",
    "    double Vmax = 15000. * k;\n",
    "    int iters = 30;\n",
    "    double logVmin = log10(Vmin), logVmax = log10(Vmax);\n",
    "    double dlogV = (logVmax - logVmin) / (iters - 1);\n",
    "    \n",
    "    double dNchdyOverdNchddeta = 1.20; // pp value from https://arxiv.org/abs/1908.02792\n",
    "    \n",
    "    for (double logV = logVmin; logV <= logVmax + 1.e-3; logV += dlogV) {\n",
    "        double V = pow(10., logV);\n",
    "\n",
    "        model->SetVolume(V);\n",
    "        model->SetCanonicalVolume(V);\n",
    "        model->CalculateDensities();\n",
    "\n",
    "        for(std::ostream* out : outs) {\n",
    "            *out << setw(15) << 2. * model->GetDensity(211, 1) * V / k; // Charged pions dN/dy\n",
    "            *out << setw(15) << V; // Vc\n",
    "            *out << setw(15) << model->ChargedMultiplicity(0) / k;\n",
    "            *out << setw(15) << model->ChargedMultiplicity(0) / k / dNchdyOverdNchddeta;\n",
    "\n",
    "            for (int i = 0; i < names1.size(); ++i) {\n",
    "                *out << setw(15) << model->GetDensity(pdgs1[i], 1) / model->GetDensity(pdgs2[i], 1);\n",
    "            }\n",
    "\n",
    "            *out << endl;\n",
    "        }\n",
    "    }\n",
    "    \n",
    "    for(std::ostream* out : outs) {\n",
    "        *out << setw(15) << \"HML\";\n",
    "        *out << setw(15) << \"HML\";\n",
    "        *out << setw(15) << \"HML\";\n",
    "        *out << setw(15) << \"HML\";\n",
    "\n",
    "        for (int i = 0; i < ratiosGCE.size(); ++i) {\n",
    "            *out << setw(15) << ratiosGCE[i];\n",
    "        }\n",
    "\n",
    "        *out << endl;\n",
    "    }\n",
    "    \n",
    "    fout.close();\n",
    "}"
   ]
  },
  {
   "cell_type": "markdown",
   "metadata": {},
   "source": [
    "Perform the vanilla CSM scans"
   ]
  },
  {
   "cell_type": "code",
   "execution_count": 10,
   "metadata": {},
   "outputs": [],
   "source": [
    "ThermalModelCanonical modelce(&parts);\n",
    "\n",
    "if (useWidth)\n",
    "    modelce.SetUseWidth(ThermalParticle::eBW);\n",
    "else\n",
    "    modelce.SetUseWidth(ThermalParticle::ZeroWidth);\n",
    "\n",
    "modelce.SetStatistics(useQStats);\n",
    "// Include quantum statistics for mesons only\n",
    "if (useQStats){\n",
    "    for (int i = 0; i < modelce.TPS()->Particles().size(); ++i) {\n",
    "        ThermalParticle &part = modelce.TPS()->Particle(i);\n",
    "        if (part.BaryonCharge() != 0)\n",
    "            part.UseStatistics(false);\n",
    "    }\n",
    "}\n",
    "\n",
    "modelce.SetTemperature(Tch);\n",
    "modelce.SetBaryonChemicalPotential(0.);\n",
    "modelce.SetElectricChemicalPotential(0.);\n",
    "modelce.SetStrangenessChemicalPotential(0.);\n",
    "\n",
    "modelce.SetBaryonCharge(0);\n",
    "modelce.SetElectricCharge(0);\n",
    "modelce.SetStrangeness(0);\n",
    "\n",
    "modelce.FillChemicalPotentials();"
   ]
  },
  {
   "cell_type": "code",
   "execution_count": 11,
   "metadata": {},
   "outputs": [
    {
     "name": "stdout",
     "output_type": "stream",
     "text": [
      "      dNpipm/dy        Vc[fm3]        dNch/dy      dNch/deta    (K/pi)toHML   (Xi/pi)toHML  (phi/pi)toHML    (p/pi)toHML   (Om/pi)toHML   (La/pi)toHML   (K*/pi)toHML\n",
      "      0.0768496              1      0.0077515     0.00645958      0.0617676     1.5189e-05      0.0743313    0.000861875    3.96148e-07    0.000333069     0.00682599\n",
      "       0.111546        1.39317      0.0151233      0.0126027      0.0636195    2.18256e-05      0.0713456     0.00119742    5.87085e-07    0.000468215     0.00795567\n",
      "       0.164161        1.94091      0.0295411      0.0246176      0.0662119    3.17536e-05      0.0675398     0.00166367    8.91101e-07    0.000661047     0.00947104\n",
      "       0.245806        2.70402      0.0577536       0.048128      0.0698437    4.69978e-05      0.0628423     0.00231337    1.39685e-06    0.000939331      0.0114818\n",
      "       0.375664        3.76715       0.112861      0.0940505      0.0749287    7.11951e-05      0.0572878     0.00322419    2.28386e-06     0.00134736      0.0141161\n",
      "       0.586957        5.24826       0.219727       0.183106      0.0820186    0.000111149      0.0510834     0.00451416    3.93513e-06     0.00195794      0.0175158\n",
      "       0.935537        7.31171       0.423164       0.352637      0.0917754    0.000179905      0.0446542     0.00636667     7.2015e-06     0.00289205      0.0218184\n",
      "        1.50742        10.1864       0.795694       0.663078       0.104774    0.000302244      0.0386136     0.00906077    1.40033e-05     0.00434347      0.0270965\n",
      "        2.41408        14.1914        1.43389        1.19491       0.120927    0.000521632      0.0335964       0.012973    2.85278e-05     0.00658277      0.0331966\n",
      "        3.77159         19.771        2.43676        2.03063       0.138537    0.000899094      0.0299639      0.0184519    5.88048e-05     0.00986266      0.0394834\n",
      "        5.70443        27.5443         3.9013        3.25108       0.154126     0.00148047      0.0276048      0.0254578     0.00011622      0.0141479      0.0448309\n",
      "        8.40065        38.3738        5.96606        4.97171        0.16476     0.00222889       0.026118      0.0331678    0.000208171       0.018858      0.0483692\n",
      "        12.1492        53.4611        8.84472         7.3706       0.170634      0.0030021      0.0251618       0.040158    0.000326265      0.0230727      0.0502646\n",
      "        17.3543        74.4802        12.8382        10.6985       0.173777     0.00364787      0.0245418      0.0453369    0.000447119      0.0261569      0.0512502\n",
      "        24.5817        103.763        18.3727        15.3106       0.175652     0.00411453      0.0241389      0.0486707    0.000550972       0.028126      0.0518301\n",
      "         34.631         144.56        26.0582        21.7152       0.176873     0.00443701      0.0238713      0.0507708    0.000632474      0.0293578      0.0522064\n",
      "        48.6199        201.396        36.7509        30.6258       0.177696     0.00466211      0.0236885      0.0521555    0.000694215      0.0301651        0.05246\n",
      "        68.1021        280.578        51.6394        43.0328       0.178263     0.00482113      0.0235613       0.053102    0.000740167       0.030714       0.052634\n",
      "        95.2399        390.892        72.3764        60.3137       0.178657     0.00493414      0.0234718      0.0537606    0.000773972      0.0310946      0.0527551\n",
      "        133.045        544.578        101.263        84.3861       0.178934     0.00501469      0.0234085      0.0542237    0.000798648      0.0313615        0.05284\n",
      "        185.711        758.688        141.505        117.921        0.17913     0.00507224      0.0233635      0.0545514    0.000816569        0.03155         0.0529\n",
      "        259.083        1056.98        197.567        164.639        0.17927     0.00511343      0.0233314      0.0547844    0.000829542      0.0316838      0.0529427\n",
      "        361.301        1472.55         275.67        229.725       0.179369     0.00514291      0.0233085      0.0549504    0.000838905      0.0317791      0.0529729\n",
      "        503.715         2051.5        384.486        320.405       0.179438     0.00516395      0.0232918      0.0550688    0.000845627      0.0318467      0.0529939\n",
      "        702.115        2858.09        536.078        446.732       0.179488     0.00517908        0.02328      0.0551536    0.000850478      0.0318953      0.0530093\n",
      "        978.489        3981.79        747.244        622.703       0.179529     0.00519017      0.0232723      0.0552146    0.000854063      0.0319308      0.0530219\n",
      "        1363.52         5547.3        1041.43        867.854        0.17956     0.00519814      0.0232668      0.0552584     0.00085664      0.0319563       0.053031\n",
      "        1899.98        7728.32        1451.32        1209.43       0.179574     0.00520344      0.0232623      0.0552895    0.000858307      0.0319737      0.0530355\n",
      "        2647.43        10766.8        2022.44        1685.36       0.179578     0.00520695      0.0232584      0.0553114    0.000859392      0.0319855      0.0530369\n",
      "         3688.8          15000        2818.15        2348.46       0.179584     0.00520977      0.0232553       0.055327    0.000860327       0.031994      0.0530387\n",
      "            HML            HML            HML            HML       0.179618     0.00521761      0.0232506      0.0553682    0.000862914      0.0320184       0.053049\n"
     ]
    }
   ],
   "source": [
    "PerformScan(&modelce, 1., \"out/VanillaCSM.Extras.Vc.eq.dVdy.dat\");"
   ]
  },
  {
   "cell_type": "code",
   "execution_count": 12,
   "metadata": {},
   "outputs": [
    {
     "name": "stdout",
     "output_type": "stream",
     "text": [
      "      dNpipm/dy        Vc[fm3]        dNch/dy      dNch/deta    (K/pi)toHML   (Xi/pi)toHML  (phi/pi)toHML    (p/pi)toHML   (Om/pi)toHML   (La/pi)toHML   (K*/pi)toHML\n",
      "      0.0933613              3      0.0237505      0.0197921      0.0712572    5.33777e-05      0.0611887     0.00256605    1.62127e-06     0.00105048      0.0122335\n",
      "       0.143668         4.1795      0.0463811      0.0386509      0.0769044    8.15653e-05      0.0553986     0.00358046    2.69182e-06     0.00151233       0.015092\n",
      "       0.225991        5.82274      0.0900831      0.0750692      0.0847562     0.00012872      0.0490675       0.005023    4.72354e-06     0.00220831      0.0187609\n",
      "       0.361925        8.11205       0.172489       0.143741      0.0954818    0.000210848      0.0426882     0.00710397    8.81448e-06     0.00327962      0.0233675\n",
      "       0.583287        11.3014       0.320731       0.267276       0.109534    0.000357893      0.0369064      0.0101361    1.74335e-05     0.00494624       0.028937\n",
      "       0.928507        15.7448       0.568157       0.473465       0.126425    0.000619873      0.0323053      0.0145106    3.58184e-05     0.00749099      0.0351926\n",
      "        1.43606        21.9351       0.946899       0.789083       0.143821     0.00105874      0.0291047      0.0205036    7.33318e-05      0.0111127      0.0413163\n",
      "        2.15181        30.5593        1.49169        1.24308       0.158049     0.00170197      0.0270646      0.0278588    0.000141306      0.0156194      0.0461481\n",
      "        3.14842        42.5742        2.25602        1.88002       0.167023     0.00247676      0.0257728      0.0355035    0.000243287      0.0202731      0.0491066\n",
      "        4.53342         59.313         3.3196        2.76633       0.171821     0.00322301       0.024938      0.0419988    0.000365023      0.0241725      0.0506395\n",
      "        6.45619        82.6328        4.79392        3.99493       0.174461     0.00381264      0.0243968      0.0465551       0.000482      0.0268781      0.0514619\n",
      "        9.12697        115.121        6.83806        5.69838       0.176089      0.0042286      0.0240435      0.0494312    0.000578857       0.028573      0.0519649\n",
      "        12.8421        160.383         9.6787        8.06559       0.177165     0.00451623      0.0238066      0.0512648    0.000653754      0.0296463      0.0522966\n",
      "        18.0148        223.441        13.6322        11.3601       0.177897     0.00471792      0.0236437      0.0524905    0.000710127      0.0303596      0.0525216\n",
      "        25.2192         311.29        19.1377        15.9481       0.178402     0.00486074      0.0235298      0.0533341    0.000751908      0.0308483      0.0526767\n",
      "        35.2551        433.679        26.8063        22.3386       0.178755     0.00496235      0.0234496      0.0539234     0.00078256      0.0311885      0.0527849\n",
      "        49.2359        604.187        37.4891        31.2409       0.179003     0.00503484      0.0233927      0.0543387    0.000804893      0.0314277       0.052861\n",
      "        68.7129        841.734        52.3711        43.6426       0.179179     0.00508665      0.0233522      0.0546331    0.000821094      0.0315969      0.0529149\n",
      "        95.8469        1172.68        73.1036        60.9197       0.179305     0.00512374      0.0233234      0.0548425    0.000832811      0.0317172      0.0529533\n",
      "         133.65        1633.73        101.988        84.9902       0.179393     0.00515028      0.0233027      0.0549918    0.000841256      0.0318028      0.0529803\n",
      "        186.318        2276.06        142.231        118.526       0.179455     0.00516922      0.0232876      0.0550984    0.000847314      0.0318637      0.0529992\n",
      "        259.687        3170.93         198.29        165.242       0.179502     0.00518293      0.0232772      0.0551749    0.000851717      0.0319076      0.0530135\n",
      "        361.894        4417.64        276.381        230.318        0.17954     0.00519299      0.0232704      0.0552299    0.000854975      0.0319398      0.0530252\n",
      "        504.289        6154.51        385.178        320.982       0.179566     0.00520006      0.0232653      0.0552693    0.000857251      0.0319625      0.0530329\n",
      "        702.689        8574.26        536.771        447.309       0.179576     0.00520468       0.023261      0.0552972    0.000858687      0.0319779      0.0530361\n",
      "        979.119        11945.4         747.99        623.325       0.179579     0.00520787      0.0232573      0.0553168    0.000859686      0.0319884      0.0530373\n",
      "        1364.24        16641.9        1042.26        868.548       0.179587     0.00521061      0.0232546      0.0553309     0.00086062      0.0319963      0.0530397\n",
      "        1900.73          23185        1452.19        1210.16         0.1796       0.005213      0.0232531      0.0553414     0.00086148      0.0320027      0.0530436\n",
      "        2648.11        32300.5        2023.24        1686.04        0.17961      0.0052147      0.0232524      0.0553491    0.000862076      0.0320075      0.0530466\n",
      "        3689.31          45000        2818.79        2348.99       0.179615     0.00521567      0.0232521      0.0553546    0.000862382      0.0320109       0.053048\n",
      "            HML            HML            HML            HML       0.179618     0.00521761      0.0232506      0.0553682    0.000862914      0.0320184       0.053049\n"
     ]
    }
   ],
   "source": [
    "PerformScan(&modelce, 3., \"out/VanillaCSM.Extras.Vc.eq.3dVdy.dat\");"
   ]
  },
  {
   "cell_type": "code",
   "execution_count": 13,
   "metadata": {},
   "outputs": [
    {
     "name": "stdout",
     "output_type": "stream",
     "text": [
      "      dNpipm/dy        Vc[fm3]        dNch/dy      dNch/deta    (K/pi)toHML   (Xi/pi)toHML  (phi/pi)toHML    (p/pi)toHML   (Om/pi)toHML   (La/pi)toHML   (K*/pi)toHML\n",
      "       0.117839              6      0.0478035      0.0398362      0.0855983    0.000134384      0.0484836     0.00518106    4.98489e-06     0.00228708      0.0191375\n",
      "       0.188941          8.359      0.0913563      0.0761303      0.0966135    0.000220884      0.0421307     0.00733355    9.35435e-06     0.00340191      0.0238328\n",
      "       0.304414        11.6455       0.169261       0.141051       0.110965    0.000375949       0.036435      0.0104706    1.85861e-05     0.00513596      0.0294824\n",
      "       0.483579        16.2241       0.298277       0.248564       0.128029    0.000651421      0.0319589      0.0149846    3.82521e-05      0.0077733      0.0357686\n",
      "       0.745693        22.6029       0.494359       0.411966       0.145291     0.00110873      0.0288787       0.021123    7.80773e-05      0.0114913      0.0418225\n",
      "        1.11452        31.4896       0.775394       0.646162        0.15908     0.00176865      0.0269226      0.0285599    0.000149204      0.0160485      0.0464923\n",
      "        1.62791        43.8703        1.16925       0.974373       0.167596     0.00254799      0.0256816      0.0361576    0.000253836      0.0206682       0.049292\n",
      "        2.34128        61.1186        1.71703        1.43086       0.172124     0.00328383      0.0248788      0.0424934     0.00037614      0.0244673      0.0507346\n",
      "        3.33162        85.1484        2.47625        2.06354       0.174639      0.0038569      0.0243584      0.0468748    0.000491691       0.027067      0.0515172\n",
      "        4.70739        118.626         3.5291        2.94092       0.176205     0.00425913      0.0240181      0.0496314    0.000586496      0.0286905      0.0520007\n",
      "        6.62136        165.266        4.99246        4.16038       0.177243     0.00453751      0.0237893      0.0513962    0.000659554       0.029723      0.0523206\n",
      "        9.28633        230.243        7.02926        5.85772        0.17795     0.00473295      0.0236316      0.0525801    0.000714449      0.0304116      0.0525381\n",
      "        12.9982        320.767        9.86576        8.22146       0.178439     0.00487142      0.0235214      0.0533964    0.000755092      0.0308843      0.0526882\n",
      "        18.1688        446.881        13.8168         11.514       0.178781     0.00496996      0.0234436      0.0539672    0.000784885      0.0312137       0.052793\n",
      "         25.372         622.58        19.3207        16.1006       0.179022     0.00504027      0.0233884      0.0543697    0.000806583      0.0314455      0.0528667\n",
      "        35.4069        867.358        26.9882        22.4902       0.179193     0.00509054      0.0233492      0.0546551    0.000822317      0.0316096      0.0529189\n",
      "        49.3869        1208.37          37.67        31.3917       0.179314     0.00512653      0.0233213      0.0548582    0.000833695      0.0317262      0.0529562\n",
      "         68.864        1683.47         52.552        43.7934         0.1794     0.00515226      0.0233011       0.055003    0.000841891      0.0318092      0.0529823\n",
      "        95.9994        2345.35        73.2858        61.0715       0.179459     0.00517065      0.0232865      0.0551064    0.000847771      0.0318682      0.0530006\n",
      "        133.801        3267.47        102.168        85.1404       0.179506     0.00518397      0.0232765      0.0551806    0.000852054       0.031911      0.0530147\n",
      "         186.46        4552.13        142.403        118.669       0.179543     0.00519374      0.0232699      0.0552341    0.000855221      0.0319422      0.0530261\n",
      "        259.825        6341.87        198.458        165.381       0.179567     0.00520057      0.0232649      0.0552723    0.000857411      0.0319642      0.0530334\n",
      "        362.046        8835.28        276.562        230.469       0.179576     0.00520501      0.0232606      0.0552992    0.000858788       0.031979      0.0530362\n",
      "        504.469          12309        385.387        321.156        0.17958     0.00520813       0.023257      0.0553183    0.000859771      0.0319892      0.0530374\n",
      "        702.889        17148.5            537          447.5       0.179588     0.00521084      0.0232544       0.055332    0.000860704      0.0319969      0.0530401\n",
      "          979.3        23890.8        748.203        623.503       0.179601     0.00521319       0.023253      0.0553422    0.000861547      0.0320032      0.0530439\n",
      "        1364.37        33283.8        1042.42        868.685       0.179611     0.00521481      0.0232524      0.0553496    0.000862114      0.0320079      0.0530468\n",
      "        1900.81        46369.9         1452.3        1210.25       0.179615     0.00521573      0.0232521       0.055355    0.000862399      0.0320112      0.0530481\n",
      "        2648.16          64601        2023.32         1686.1       0.179617     0.00521625       0.023252      0.0553588     0.00086253      0.0320134      0.0530485\n",
      "        3689.35          90000        2818.86        2349.05       0.179618      0.0052166      0.0232519      0.0553617    0.000862611       0.032015      0.0530489\n",
      "            HML            HML            HML            HML       0.179618     0.00521761      0.0232506      0.0553682    0.000862914      0.0320184       0.053049\n"
     ]
    }
   ],
   "source": [
    "PerformScan(&modelce, 6., \"out/VanillaCSM.Extras.Vc.eq.6dVdy.dat\");"
   ]
  }
 ],
 "metadata": {
  "kernelspec": {
   "display_name": "C++17",
   "language": "C++17",
   "name": "xcpp17"
  },
  "language_info": {
   "codemirror_mode": "text/x-c++src",
   "file_extension": ".cpp",
   "mimetype": "text/x-c++src",
   "name": "c++",
   "version": "-std=c++17"
  }
 },
 "nbformat": 4,
 "nbformat_minor": 2
}
