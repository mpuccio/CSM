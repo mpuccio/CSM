{
 "cells": [
  {
   "cell_type": "markdown",
   "metadata": {},
   "source": [
    "Computes Vanilla CSM model hadron yield ratios that are not normalized to the high-multiplicity limit. Also outputs (dNch/dy) and (dNch/dEta), under the assumption (dNch/dEta) = (dNch/dy) / 1.2 (see https://arxiv.org/abs/1908.02792)"
   ]
  },
  {
   "cell_type": "code",
   "execution_count": 1,
   "metadata": {},
   "outputs": [
    {
     "name": "stdout",
     "output_type": "stream",
     "text": [
      "###############################################################################\n",
      "#                                                                             #\n",
      "# This is Thermal-FIST version 1.2.2                                          #\n",
      "#                                                                             #\n",
      "# Copyright (c) 2019 Volodymyr Vovchenko <vovchenko@fias.uni-frankfurt.de>    #\n",
      "#                                                                             #\n",
      "# Distributed under the GNU General Public License 3.0 (GPLv3 or later)       #\n",
      "#                                                                             #\n",
      "# Please cite when using this code:                                           #\n",
      "# V. Vovchenko, H. Stoecker, arXiv:1901.05249 [nucl-th]                       #\n",
      "#                                                                             #\n",
      "# The latest version is available at https://github.com/vlvovch/Thermal-FIST  #\n",
      "#                                                                             #\n",
      "###############################################################################\n",
      "\n"
     ]
    }
   ],
   "source": [
    "#include \"inc/loadFISTlibs.h\""
   ]
  },
  {
   "cell_type": "code",
   "execution_count": 2,
   "metadata": {},
   "outputs": [],
   "source": [
    "using namespace std;"
   ]
  },
  {
   "cell_type": "code",
   "execution_count": 3,
   "metadata": {},
   "outputs": [],
   "source": [
    "using namespace thermalfist;"
   ]
  },
  {
   "cell_type": "code",
   "execution_count": 4,
   "metadata": {},
   "outputs": [],
   "source": [
    "bool useWidth  = true;\n",
    "bool useQStats = false;\n",
    "\n",
    "double Tch = 0.155;"
   ]
  },
  {
   "cell_type": "code",
   "execution_count": 5,
   "metadata": {},
   "outputs": [],
   "source": [
    "// Particle list\n",
    "//ThermalParticleSystem parts(string(INPUT_FOLDER) + \"/list/PDG2014/list-withnuclei.dat\");\n",
    "ThermalParticleSystem parts(string(INPUT_FOLDER) + \"/list/PDG2014/list.dat\");"
   ]
  },
  {
   "cell_type": "markdown",
   "metadata": {},
   "source": [
    "Fill the list of the considered hadron yield ratios"
   ]
  },
  {
   "cell_type": "code",
   "execution_count": 6,
   "metadata": {},
   "outputs": [],
   "source": [
    "vector<int> pdgs1, pdgs2;\n",
    "vector<string> names1, names2;\n",
    "\n",
    "names1.push_back(\"d\");\n",
    "names2.push_back(\"p\");\n",
    "pdgs1.push_back(1000010020);\n",
    "pdgs2.push_back(2212);\n",
    "\n",
    "names1.push_back(\"He3\");\n",
    "names2.push_back(\"p\");\n",
    "pdgs1.push_back(1000020030);\n",
    "pdgs2.push_back(2212);\n",
    "\n",
    "names1.push_back(\"H3La\");\n",
    "names2.push_back(\"p\");\n",
    "pdgs1.push_back(1010010030);\n",
    "pdgs2.push_back(2212);\n",
    "\n",
    "names1.push_back(\"He4\");\n",
    "names2.push_back(\"p\");\n",
    "pdgs1.push_back(1000020040);\n",
    "pdgs2.push_back(2212);\n",
    "\n",
    "names1.push_back(\"H3La\");\n",
    "names2.push_back(\"Lambda\");\n",
    "pdgs1.push_back(1010010030);\n",
    "pdgs2.push_back(3122);"
   ]
  },
  {
   "cell_type": "markdown",
   "metadata": {},
   "source": [
    "Compute the limiting GCE yield ratios values"
   ]
  },
  {
   "cell_type": "code",
   "execution_count": 7,
   "metadata": {},
   "outputs": [],
   "source": [
    "vector<double> ratiosGCE;\n",
    "{\n",
    "    ThermalModelIdeal modelgce(&parts);\n",
    "\n",
    "    if (useWidth)\n",
    "        modelgce.SetUseWidth(ThermalParticle::eBW);\n",
    "    else\n",
    "        modelgce.SetUseWidth(ThermalParticle::ZeroWidth);\n",
    "    modelgce.SetStatistics(useQStats);\n",
    "    // Include quantum statistics for mesons only\n",
    "    if (useQStats){\n",
    "        for (int i = 0; i < modelgce.TPS()->Particles().size(); ++i) {\n",
    "            ThermalParticle &part = modelgce.TPS()->Particle(i);\n",
    "            if (part.BaryonCharge() != 0)\n",
    "                part.UseStatistics(false);\n",
    "        }\n",
    "    }\n",
    "\n",
    "    modelgce.SetTemperature(Tch);\n",
    "    modelgce.SetBaryonChemicalPotential(0.);\n",
    "    modelgce.SetElectricChemicalPotential(0.);\n",
    "    modelgce.SetStrangenessChemicalPotential(0.);\n",
    "\n",
    "    modelgce.FillChemicalPotentials();\n",
    "\n",
    "    modelgce.CalculateDensities();\n",
    "\n",
    "    for (int i = 0; i < names1.size(); ++i) {\n",
    "        ratiosGCE.push_back(modelgce.GetDensity(pdgs1[i], 1) / modelgce.GetDensity(pdgs2[i], 1));\n",
    "    }\n",
    "}"
   ]
  },
  {
   "cell_type": "markdown",
   "metadata": {},
   "source": [
    "Prepare the output (on the screen and to a file)"
   ]
  },
  {
   "cell_type": "code",
   "execution_count": 8,
   "metadata": {},
   "outputs": [],
   "source": [
    "vector<std::ostream*> outs;\n",
    "outs.push_back(&std::cout);\n",
    "\n",
    "outs.push_back(NULL);"
   ]
  },
  {
   "cell_type": "markdown",
   "metadata": {},
   "source": [
    "Routine performing the (logarithmic scale) scan over Vc and dNpi/dy.\n",
    "\n",
    "Parameter k determines Vc = k dV/dy"
   ]
  },
  {
   "cell_type": "code",
   "execution_count": 9,
   "metadata": {},
   "outputs": [],
   "source": [
    "void PerformScan(ThermalModelBase *model, \n",
    "                   double k,\n",
    "                   const string& filename)\n",
    "{\n",
    "    ofstream fout(filename);\n",
    "    outs[1] = &fout;\n",
    "    \n",
    "    for(std::ostream* out : outs) {\n",
    "        *out << setw(15) << \"dNpipm/dy\";\n",
    "        *out << setw(15) << \"Vc[fm3]\";\n",
    "        *out << setw(15) << \"dNch/dy\";\n",
    "        *out << setw(15) << \"dNch/deta\";\n",
    "\n",
    "        for (int i = 0; i < names1.size(); ++i) {\n",
    "            *out << setw(15) << (names1[i] + \"/\" + names2[i]) + \"\";\n",
    "        }\n",
    "        \n",
    "        *out << setw(15) << \"S3\";\n",
    "\n",
    "        *out << endl;\n",
    "    }\n",
    "    \n",
    "    double Vmin = 1. * k;\n",
    "    double Vmax = 15000. * k;\n",
    "    int iters = 30;\n",
    "    double logVmin = log10(Vmin), logVmax = log10(Vmax);\n",
    "    double dlogV = (logVmax - logVmin) / (iters - 1);\n",
    "    \n",
    "    double dNchdyOverdNchddeta = 1.20; // pp value from https://arxiv.org/abs/1908.02792\n",
    "    \n",
    "    for (double logV = logVmin; logV <= logVmax + 1.e-3; logV += dlogV) {\n",
    "        double V = pow(10., logV);\n",
    "\n",
    "        model->SetVolume(V);\n",
    "        model->SetCanonicalVolume(V);\n",
    "        model->CalculateDensities();\n",
    "\n",
    "        for(std::ostream* out : outs) {\n",
    "            *out << setw(15) << 2. * model->GetDensity(211, 1) * V / k; // Charged pions dN/dy\n",
    "            *out << setw(15) << V; // Vc\n",
    "            *out << setw(15) << model->ChargedMultiplicityFinal(0) / k;\n",
    "            *out << setw(15) << model->ChargedMultiplicityFinal(0) / k / dNchdyOverdNchddeta;\n",
    "\n",
    "            for (int i = 0; i < names1.size(); ++i) {\n",
    "                *out << setw(15) << model->GetDensity(pdgs1[i], 1) / model->GetDensity(pdgs2[i], 1);\n",
    "            }\n",
    "            \n",
    "            *out << setw(15) << (model->GetDensity(1010010030, 1) / model->GetDensity(1000020030, 1)) / (model->GetDensity(3122, 1) / model->GetDensity(2212, 1));\n",
    "\n",
    "            *out << endl;\n",
    "        }\n",
    "    }\n",
    "    \n",
    "    for(std::ostream* out : outs) {\n",
    "        *out << setw(15) << \"HML\";\n",
    "        *out << setw(15) << \"HML\";\n",
    "        *out << setw(15) << \"HML\";\n",
    "        *out << setw(15) << \"HML\";\n",
    "\n",
    "        for (int i = 0; i < ratiosGCE.size(); ++i) {\n",
    "            *out << setw(15) << ratiosGCE[i];\n",
    "        }\n",
    "        \n",
    "        *out << setw(15) << ratiosGCE[4] / ratiosGCE[1];\n",
    "\n",
    "        *out << endl;\n",
    "    }\n",
    "    \n",
    "    fout.close();\n",
    "}"
   ]
  },
  {
   "cell_type": "markdown",
   "metadata": {},
   "source": [
    "Perform the vanilla CSM scans"
   ]
  },
  {
   "cell_type": "code",
   "execution_count": 10,
   "metadata": {},
   "outputs": [],
   "source": [
    "ThermalModelCanonical modelce(&parts);\n",
    "\n",
    "if (useWidth)\n",
    "    modelce.SetUseWidth(ThermalParticle::eBW);\n",
    "else\n",
    "    modelce.SetUseWidth(ThermalParticle::ZeroWidth);\n",
    "\n",
    "modelce.SetStatistics(useQStats);\n",
    "// Include quantum statistics for mesons only\n",
    "if (useQStats){\n",
    "    for (int i = 0; i < modelce.TPS()->Particles().size(); ++i) {\n",
    "        ThermalParticle &part = modelce.TPS()->Particle(i);\n",
    "        if (part.BaryonCharge() != 0)\n",
    "            part.UseStatistics(false);\n",
    "    }\n",
    "}\n",
    "\n",
    "modelce.SetTemperature(Tch);\n",
    "modelce.SetBaryonChemicalPotential(0.);\n",
    "modelce.SetElectricChemicalPotential(0.);\n",
    "modelce.SetStrangenessChemicalPotential(0.);\n",
    "\n",
    "modelce.SetBaryonCharge(0);\n",
    "modelce.SetElectricCharge(0);\n",
    "modelce.SetStrangeness(0);\n",
    "\n",
    "modelce.FillChemicalPotentials();"
   ]
  },
  {
   "cell_type": "code",
   "execution_count": 11,
   "metadata": {},
   "outputs": [
    {
     "name": "stdout",
     "output_type": "stream",
     "text": [
      "      dNpipm/dy        Vc[fm3]        dNch/dy      dNch/deta            d/p          He3/p         H3La/p          He4/p    H3La/Lambda             S3\n",
      "      0.0766118              1      0.0814348      0.0678623    4.39316e-05    7.18969e-10    2.74001e-10    1.04936e-14    7.08679e-10       0.985687\n",
      "       0.111174        1.39317       0.118425      0.0986874     5.3271e-05    1.07856e-09    4.52602e-10    1.83853e-14    1.15673e-09        1.07247\n",
      "       0.163537        1.94091       0.174725       0.145604    6.65589e-05    1.72585e-09     7.7999e-10    3.51208e-14    1.96128e-09        1.13641\n",
      "        0.24466        2.70402       0.262495       0.218746    8.55916e-05    2.93138e-09    1.39649e-09    7.33834e-14    3.43527e-09        1.17189\n",
      "       0.373351        3.76715       0.402927       0.335772    0.000113073    5.25294e-09    2.58693e-09    1.67317e-13    6.18126e-09        1.17672\n",
      "       0.581907        5.24826       0.633185       0.527654    0.000153105    9.87053e-09    4.93896e-09    4.13383e-13    1.13663e-08        1.15153\n",
      "       0.924051        7.31171        1.01699       0.847496    0.000211909    1.93339e-08    9.67768e-09    1.09583e-12    2.12591e-08        1.09958\n",
      "        1.48162        10.1864        1.65595        1.37996    0.000298724    3.92104e-08    1.93529e-08    3.07929e-12     4.0276e-08        1.02718\n",
      "        2.36001        14.1914         2.6902        2.24183    0.000426539    8.15386e-08    3.91534e-08    9.02968e-12    7.69746e-08       0.944026\n",
      "        3.67016         19.771        4.28019        3.56682    0.000611603    1.71281e-07    7.90859e-08    2.70485e-11    1.47619e-07       0.861853\n",
      "         5.5338        27.5443        6.60184        5.50153    0.000869954    3.55908e-07     1.5672e-07    8.04872e-11    2.81419e-07       0.790706\n",
      "        8.13402        38.3738         9.8909        8.24241     0.00120938    7.13181e-07    2.98575e-07    2.30143e-10    5.24221e-07       0.735047\n",
      "        11.7495        53.4611        14.4885        12.0738     0.00161717    1.34026e-06    5.34787e-07    6.09339e-10    9.29494e-07       0.693517\n",
      "        16.7693        74.4802        20.8731        17.3943     0.00205072    2.29784e-06    8.79415e-07    1.43661e-09    1.52263e-06       0.662637\n",
      "        23.7381        103.763        29.7243        24.7702      0.0024505    3.52682e-06    1.30482e-06    2.92047e-09    2.25614e-06       0.639711\n",
      "        33.4264         144.56        42.0167        35.0139     0.00277631     4.8482e-06    1.74736e-06    5.06374e-09    3.02011e-06       0.622935\n",
      "        46.9118        201.396        59.1195        49.2662     0.00302335    6.08032e-06     2.1491e-06    7.59963e-09    3.71426e-06       0.610866\n",
      "        65.6923        280.578        82.9336        69.1113     0.00320516    7.12554e-06    2.48297e-06    1.01659e-08    4.29156e-06       0.602278\n",
      "        91.8522        390.892        116.103        96.7523     0.00333743    7.96229e-06    2.74623e-06    1.24926e-08    4.74703e-06       0.596189\n",
      "        128.294        544.578        162.308        135.256     0.00343314    8.60849e-06    2.94734e-06    1.44523e-08    5.09512e-06       0.591872\n",
      "        179.063        758.688        226.675        188.896     0.00350218    9.09614e-06    3.09792e-06    1.60233e-08    5.35584e-06       0.588804\n",
      "        249.789        1056.98        316.347        263.622     0.00355191    9.45855e-06     3.2092e-06    1.72415e-08    5.54857e-06        0.58662\n",
      "        348.322        1472.55        441.273        367.727     0.00358769    9.72511e-06    3.29073e-06    1.81646e-08    5.68978e-06       0.585061\n",
      "        485.599         2051.5        615.319        512.766     0.00361337    9.91966e-06    3.35005e-06    1.88529e-08     5.7926e-06       0.583951\n",
      "         676.85        2858.09        857.795        714.829     0.00363182     1.0061e-05    3.39308e-06    1.93606e-08    5.86717e-06       0.583157\n",
      "        943.273        3981.79        1195.58         996.32     0.00364517    1.01636e-05    3.42423e-06    1.97331e-08    5.92108e-06       0.582575\n",
      "        1314.43         5547.3        1666.16        1388.46     0.00365478    1.02376e-05    3.44667e-06    2.00035e-08    5.95986e-06       0.582156\n",
      "        1831.53        7728.32        2321.76         1934.8     0.00366163     1.0291e-05    3.46297e-06    2.01999e-08    5.98813e-06        0.58188\n",
      "           2552        10766.8         3235.2           2696     0.00366656    1.03301e-05    3.47493e-06    2.03443e-08    6.00902e-06       0.581699\n",
      "        3555.81          15000        4507.86        3756.55     0.00366989    1.03569e-05      3.483e-06    2.04435e-08    6.02309e-06       0.581552\n",
      "            HML            HML            HML            HML     0.00367894    1.04273e-05    3.50421e-06    2.07054e-08     6.0597e-06       0.581137\n"
     ]
    }
   ],
   "source": [
    "PerformScan(&modelce, 1., \"out/VanillaCSM.S3.Vc.eq.dVdy.dat\");"
   ]
  },
  {
   "cell_type": "code",
   "execution_count": 12,
   "metadata": {},
   "outputs": [
    {
     "name": "stdout",
     "output_type": "stream",
     "text": [
      "      dNpipm/dy        Vc[fm3]        dNch/dy      dNch/deta            d/p          He3/p         H3La/p          He4/p    H3La/Lambda             S3\n",
      "      0.0928902              3      0.0998243      0.0831869     9.3132e-05    3.49993e-09    1.68812e-09    9.41377e-14    4.11846e-09        1.17673\n",
      "        0.14269         4.1795       0.154346       0.128622     0.00012402    6.36975e-09    3.15818e-09    2.20307e-13    7.46512e-09        1.17196\n",
      "       0.223818        5.82274       0.244318       0.203598    0.000169141    1.21337e-08    6.08185e-09     5.5709e-13     1.3807e-08        1.13791\n",
      "       0.356972        8.11205       0.394594       0.328828    0.000235558    2.40468e-08     1.2002e-08    1.50615e-12    2.59394e-08         1.0787\n",
      "       0.572334        11.3014        0.64335       0.536125    0.000333638    4.92144e-08    2.41157e-08    4.29739e-12    4.93003e-08        1.00175\n",
      "       0.906276        15.7448        1.04026        0.86688    0.000477543    1.02861e-07    4.88451e-08    1.27191e-11    9.43886e-08        0.91763\n",
      "        1.39585        21.9351        1.63981        1.36651    0.000684023     2.1588e-07    9.82739e-08    3.81465e-11    1.80914e-07       0.838034\n",
      "          2.086        30.5593        2.50481        2.08734    0.000967632    4.44788e-07    1.92794e-07    1.12526e-10    3.43188e-07       0.771577\n",
      "        3.04719        42.5742        3.72368        3.10306     0.00133117    8.76227e-07    3.61178e-07    3.15399e-10    6.31478e-07       0.720679\n",
      "        4.38301         59.313        5.42308        4.51924     0.00175298    1.60448e-06    6.31401e-07    8.08614e-10    1.09562e-06        0.68285\n",
      "        6.23721        82.6328        7.78048        6.48373      0.0021822    2.66048e-06    1.00659e-06    1.82491e-09    1.74181e-06       0.654696\n",
      "        8.81228        115.121        11.0498        9.20814     0.00256137    3.94058e-06    1.44485e-06    3.52905e-09     2.4978e-06       0.633866\n",
      "        12.3939        160.383        15.5932        12.9944     0.00286169    5.25027e-06    1.87952e-06    5.83331e-09    3.24839e-06        0.61871\n",
      "        17.3803        223.441        21.9168         18.264     0.00308655    6.43004e-06    2.26147e-06    8.41585e-09    3.90852e-06       0.607853\n",
      "        24.3252         311.29        30.7229        25.6024     0.00325125    7.40974e-06    2.57276e-06    1.09292e-08    4.44688e-06        0.60014\n",
      "        33.9994        433.679        42.9889        35.8241     0.00337083    8.18383e-06    2.81539e-06    1.31486e-08    4.86671e-06       0.594674\n",
      "        47.4763        604.187        60.0761        50.0634     0.00345725     8.7767e-06    2.99939e-06    1.49853e-08    5.18524e-06       0.590796\n",
      "        66.2512        841.734        83.8802        69.9002     0.00351955    9.22166e-06    3.13652e-06    1.64403e-08    5.42269e-06       0.588039\n",
      "        92.4072        1172.68        117.042        97.5353     0.00356441    9.55113e-06    3.23755e-06    1.75595e-08    5.59767e-06       0.586074\n",
      "        128.847        1633.73        163.243        136.035     0.00359667    9.79282e-06    3.31139e-06    1.84028e-08    5.72559e-06       0.584672\n",
      "        179.615        2276.06        227.609        189.674     0.00361981     9.9689e-06    3.36505e-06     1.9029e-08    5.81859e-06       0.583674\n",
      "        250.342        3170.93         317.28          264.4     0.00363647    1.00968e-05    3.40394e-06    1.94901e-08    5.88599e-06       0.582955\n",
      "        348.869        4417.64        442.198        368.499     0.00364854    1.01895e-05    3.43208e-06    1.98275e-08    5.93463e-06       0.582427\n",
      "        486.129        6154.51        616.226        513.522     0.00365717    1.02561e-05    3.45233e-06    2.00717e-08    5.96965e-06       0.582056\n",
      "        677.369        8574.26        858.688        715.573     0.00366336    1.03046e-05    3.46714e-06    2.02501e-08     5.9954e-06       0.581817\n",
      "        943.822        11945.4        1196.51        997.088     0.00366777    1.03398e-05    3.47788e-06    2.03801e-08    6.01417e-06       0.581652\n",
      "        1315.05        16641.9        1667.16         1389.3     0.00367065    1.03631e-05    3.48479e-06    2.04662e-08     6.0262e-06       0.581508\n",
      "        1832.21          23185        2322.84         1935.7     0.00367256    1.03783e-05    3.48915e-06    2.05229e-08    6.03366e-06       0.581375\n",
      "        2552.65        32300.5        3236.27        2696.89     0.00367432    1.03916e-05    3.49308e-06    2.05728e-08    6.04038e-06       0.581274\n",
      "        3556.33          45000         4508.8        3757.34     0.00367604    1.04045e-05    3.49707e-06     2.0621e-08    6.04727e-06       0.581218\n",
      "            HML            HML            HML            HML     0.00367894    1.04273e-05    3.50421e-06    2.07054e-08     6.0597e-06       0.581137\n"
     ]
    }
   ],
   "source": [
    "PerformScan(&modelce, 3., \"out/VanillaCSM.S3.Vc.eq.3dVdy.dat\");"
   ]
  },
  {
   "cell_type": "code",
   "execution_count": 13,
   "metadata": {},
   "outputs": [
    {
     "name": "stdout",
     "output_type": "stream",
     "text": [
      "      dNpipm/dy        Vc[fm3]        dNch/dy      dNch/deta            d/p          He3/p         H3La/p          He4/p    H3La/Lambda             S3\n",
      "       0.116668              6       0.127479       0.106233    0.000174143    1.28882e-08    6.46148e-09    6.07955e-13    1.46088e-08         1.1335\n",
      "       0.186274          8.359       0.206181       0.171818    0.000242942    2.56254e-08    1.27758e-08    1.65266e-12     2.7479e-08        1.07234\n",
      "       0.298551        11.6455       0.336178       0.280148    0.000344528     5.2573e-08    2.57016e-08    4.73479e-12     5.2271e-08       0.994256\n",
      "       0.471795        16.2241       0.542654       0.452212    0.000493389    1.10009e-07    5.20607e-08    1.40455e-11    1.00117e-07       0.910081\n",
      "       0.724597        22.6029       0.853019       0.710849    0.000706339    2.30726e-07    1.04589e-07    4.21164e-11    1.91825e-07       0.831399\n",
      "        1.08024        31.4896        1.29944        1.08287    0.000997334    4.73986e-07     2.0451e-07    1.23847e-10    3.63238e-07       0.766347\n",
      "        1.57538        43.8703        1.92769        1.60641     0.00136749    9.28684e-07    3.81113e-07    3.44897e-10    6.65658e-07       0.716775\n",
      "        2.26342        61.1186        2.80304        2.33586     0.00179242      1.687e-06    6.61307e-07    8.75429e-10    1.14707e-06       0.679949\n",
      "        3.21842        85.1484        4.01705        3.34754     0.00221926    2.76966e-06    1.04459e-06    1.94987e-09    1.80731e-06       0.652538\n",
      "        4.54488        118.626        5.70093        4.75078      0.0025919    4.06078e-06    1.48527e-06    3.71641e-09    2.56757e-06       0.632284\n",
      "        6.39003        165.266        8.04152        6.70126     0.00288493    5.36398e-06     1.9167e-06    6.06111e-09    3.31264e-06       0.617571\n",
      "        8.95905        230.243        11.2994        9.41614     0.00310367    6.52729e-06     2.2926e-06    8.65043e-09    3.96234e-06       0.607041\n",
      "        12.5372        320.767        15.8364         13.197     0.00326372    7.48797e-06    2.59741e-06    1.11442e-08    4.48953e-06       0.599565\n",
      "        17.5215        446.881         22.156        18.4633     0.00337985    8.24443e-06    2.83426e-06     1.3331e-08    4.89939e-06       0.594266\n",
      "         24.465         622.58        30.9596        25.7997     0.00346376    8.82252e-06    3.01355e-06    1.51321e-08    5.20975e-06       0.590506\n",
      "        34.1382        867.358         43.224          36.02     0.00352424    9.25575e-06    3.14699e-06    1.65545e-08    5.44083e-06       0.587833\n",
      "        47.6143        1208.37        60.3098        50.2581     0.00356779    9.57623e-06    3.24523e-06    1.76462e-08    5.61097e-06       0.585927\n",
      "        66.3889        1683.47        84.1131        70.0943     0.00359909    9.81116e-06    3.31698e-06    1.84675e-08    5.73528e-06       0.584567\n",
      "        92.5458        2345.35        117.276        97.7301     0.00362155    9.98223e-06     3.3691e-06    1.90768e-08    5.82562e-06       0.583599\n",
      "        128.986        3267.47        163.476         136.23     0.00363773    1.01065e-05    3.40688e-06    1.95251e-08    5.89107e-06       0.582901\n",
      "        179.748        4552.13        227.837        189.864     0.00364944    1.01965e-05    3.43419e-06     1.9853e-08    5.93829e-06       0.582387\n",
      "        250.468        6341.87        317.499        264.583     0.00365782    1.02612e-05    3.45386e-06    2.00902e-08     5.9723e-06       0.582029\n",
      "            349        8835.28        442.422        368.685     0.00366382    1.03083e-05    3.46827e-06    2.02637e-08    5.99737e-06         0.5818\n",
      "        486.283          12309        616.474        513.728     0.00366809    1.03424e-05    3.47865e-06    2.03896e-08    6.01552e-06       0.581638\n",
      "        677.546        17148.5        858.965        715.804     0.00367085    1.03647e-05    3.48526e-06    2.04722e-08      6.027e-06       0.581495\n",
      "        943.995        23890.8        1196.78         997.32     0.00367272    1.03795e-05     3.4895e-06    2.05274e-08    6.03426e-06       0.581364\n",
      "        1315.18        33283.8         1667.4         1389.5     0.00367448    1.03928e-05    3.49344e-06    2.05773e-08    6.04101e-06       0.581267\n",
      "         1832.3        46369.9        2323.04        1935.86     0.00367619    1.04055e-05    3.49741e-06    2.06249e-08    6.04785e-06       0.581215\n",
      "        2552.72          64601        3236.43        2697.03     0.00367747     1.0415e-05    3.50045e-06    2.06606e-08    6.05313e-06       0.581192\n",
      "        3556.39          90000        4508.93        3757.44     0.00367818    1.04202e-05    3.50212e-06    2.06802e-08    6.05603e-06        0.58118\n",
      "            HML            HML            HML            HML     0.00367894    1.04273e-05    3.50421e-06    2.07054e-08     6.0597e-06       0.581137\n"
     ]
    }
   ],
   "source": [
    "PerformScan(&modelce, 6., \"out/VanillaCSM.S3.Vc.eq.6dVdy.dat\");"
   ]
  }
 ],
 "metadata": {
  "kernelspec": {
   "display_name": "C++17",
   "language": "C++17",
   "name": "xcpp17"
  },
  "language_info": {
   "codemirror_mode": "text/x-c++src",
   "file_extension": ".cpp",
   "mimetype": "text/x-c++src",
   "name": "c++",
   "version": "17"
  }
 },
 "nbformat": 4,
 "nbformat_minor": 4
}
