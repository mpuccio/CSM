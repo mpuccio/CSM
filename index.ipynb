{
 "cells": [
  {
   "cell_type": "markdown",
   "metadata": {},
   "source": [
    "# Canonical statistical model applications\n",
    "\n",
    "These notebooks present calculations within the canonical statistical model (CSM). Each notebook correspomds to a specific tasks.\n",
    "\n",
    "### 1808.05245\n",
    "---\n",
    "\n",
    "Calculations from the paper\n",
    "- V. Vovchenko, B. Dönigus, H. Stoecker, *Multiplicity dependence of light nuclei production at LHC energies in the canonical statistical model*, [Phys. Lett. B **785**, 171 (2018)](https://doi.org/10.1016/j.physletb.2018.08.041), [arXiv:1808.05245 [hep-ph]](https://arxiv.org/abs/1808.05245)\n",
    "\n",
    "\n",
    "Notebooks:\n",
    "- [1808.05245.ipynb](1808.05245.ipynb) : Multiplicity dependence of various light (hyper-)nuclei to proton ratios at the LHC.\n",
    "\n",
    "\n",
    "### 1906.03145\n",
    "---\n",
    "\n",
    "Calculations from the paper\n",
    "- V. Vovchenko, B. Dönigus, H. Stoecker, *Canonical statistical model analysis of p-p, p-Pb, and Pb-Pb collisions at the LHC*, [arXiv:1906.03145 [hep-ph]](https://arxiv.org/abs/1906.03145)\n",
    "\n",
    "\n",
    "Notebooks:\n",
    "- [1906.03145.1_GCEDensities.ipynb](1906.03145.1_GCEDensities.ipynb) : Collision energy dependence of fractions of hadrons carrying a non-zero value of baryon, electric, or strangeness charge. This is Fig. 1 of the paper.\n",
    "- [1906.03145.2_CSMYieldsVc.ipynb](1906.03145.2_CSMYieldsVc.ipynb) : Correlation volume dependence of final yields of various hadrons in charge-symmetric system ($B = Q = S = 0$) at T = 155 MeV. The yields are normalized by the limiting GCE values. This is Fig. 2 of the paper.\n",
    "- [1906.03145.3_VanillaCSM.ipynb](1906.03145.3_VanillaCSM.ipynb) : Multiplicity dependence of various hadron yield ratios in the vanilla CSM. This is Fig. 3 of the paper.\n",
    "- [1906.03145.4_gsCSM.Fits.pp.pPb.PbPb.ipynb](1906.03145.4_gsCSM.Fits.pp.pPb.PbPb.ipynb) : $\\gamma_S$CSM fits to hadron yield data for p-p, p-Pb, and Pb-Pb collisions. This corresponds to Figs. 4-7 of the paper.\n",
    "\n",
    "*Copyright (C) 2019  Volodymyr Vovchenko*"
   ]
  }
 ],
 "metadata": {
  "kernelspec": {
   "display_name": "C++17",
   "language": "C++17",
   "name": "xcpp17"
  },
  "language_info": {
   "codemirror_mode": "text/x-c++src",
   "file_extension": ".cpp",
   "mimetype": "text/x-c++src",
   "name": "c++",
   "version": "17"
  }
 },
 "nbformat": 4,
 "nbformat_minor": 4
}
