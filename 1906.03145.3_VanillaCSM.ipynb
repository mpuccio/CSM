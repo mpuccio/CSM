{
 "cells": [
  {
   "cell_type": "code",
   "execution_count": 1,
   "metadata": {},
   "outputs": [
    {
     "name": "stdout",
     "output_type": "stream",
     "text": [
      "###############################################################################\n",
      "#                                                                             #\n",
      "# This is Thermal-FIST version 1.2.2                                          #\n",
      "#                                                                             #\n",
      "# Copyright (c) 2019 Volodymyr Vovchenko <vovchenko@fias.uni-frankfurt.de>    #\n",
      "#                                                                             #\n",
      "# Distributed under the GNU General Public License 3.0 (GPLv3 or later)       #\n",
      "#                                                                             #\n",
      "# Please cite when using this code:                                           #\n",
      "# V. Vovchenko, H. Stoecker, arXiv:1901.05249 [nucl-th]                       #\n",
      "#                                                                             #\n",
      "# The latest version is available at https://github.com/vlvovch/Thermal-FIST  #\n",
      "#                                                                             #\n",
      "###############################################################################\n",
      "\n"
     ]
    }
   ],
   "source": [
    "#include \"inc/loadFISTlibs.h\""
   ]
  },
  {
   "cell_type": "code",
   "execution_count": 2,
   "metadata": {},
   "outputs": [],
   "source": [
    "using namespace std;"
   ]
  },
  {
   "cell_type": "code",
   "execution_count": 3,
   "metadata": {},
   "outputs": [],
   "source": [
    "using namespace thermalfist;"
   ]
  },
  {
   "cell_type": "code",
   "execution_count": 4,
   "metadata": {},
   "outputs": [],
   "source": [
    "bool useWidth  = true;\n",
    "bool useQStats = true;\n",
    "\n",
    "double Tch = 0.155;"
   ]
  },
  {
   "cell_type": "code",
   "execution_count": 5,
   "metadata": {},
   "outputs": [],
   "source": [
    "// Particle list\n",
    "//ThermalParticleSystem parts(string(INPUT_FOLDER) + \"/list/PDG2014/list-withnuclei.dat\");\n",
    "ThermalParticleSystem parts(string(INPUT_FOLDER) + \"/list/PDG2014/list.dat\");"
   ]
  },
  {
   "cell_type": "markdown",
   "metadata": {},
   "source": [
    "Fill the list of the considered hadron yield ratios"
   ]
  },
  {
   "cell_type": "code",
   "execution_count": 6,
   "metadata": {},
   "outputs": [],
   "source": [
    "vector<int> pdgs1, pdgs2;\n",
    "vector<string> names1, names2;\n",
    "\n",
    "names1.push_back(\"K\");\n",
    "names2.push_back(\"pi\");\n",
    "pdgs1.push_back(321);\n",
    "pdgs2.push_back(211);\n",
    "\n",
    "names1.push_back(\"Xi\");\n",
    "names2.push_back(\"pi\");\n",
    "pdgs1.push_back(3312);\n",
    "pdgs2.push_back(211);\n",
    "\n",
    "names1.push_back(\"phi\");\n",
    "names2.push_back(\"pi\");\n",
    "pdgs1.push_back(333);\n",
    "pdgs2.push_back(211);\n",
    "\n",
    "names1.push_back(\"p\");\n",
    "names2.push_back(\"pi\");\n",
    "pdgs1.push_back(2212);\n",
    "pdgs2.push_back(211);\n",
    "\n",
    "names1.push_back(\"Om\");\n",
    "names2.push_back(\"pi\");\n",
    "pdgs1.push_back(3334);\n",
    "pdgs2.push_back(211);\n",
    "\n",
    "names1.push_back(\"La\");\n",
    "names2.push_back(\"pi\");\n",
    "pdgs1.push_back(3122);\n",
    "pdgs2.push_back(211);\n",
    "\n",
    "names1.push_back(\"K*\");\n",
    "names2.push_back(\"pi\");\n",
    "pdgs1.push_back(323);\n",
    "pdgs2.push_back(211);"
   ]
  },
  {
   "cell_type": "markdown",
   "metadata": {},
   "source": [
    "Compute the limiting GCE yield ratios values"
   ]
  },
  {
   "cell_type": "code",
   "execution_count": 7,
   "metadata": {},
   "outputs": [],
   "source": [
    "vector<double> ratiosGCE;\n",
    "{\n",
    "    ThermalModelIdeal modelgce(&parts);\n",
    "\n",
    "    if (useWidth)\n",
    "        modelgce.SetUseWidth(ThermalParticle::eBW);\n",
    "    else\n",
    "        modelgce.SetUseWidth(ThermalParticle::ZeroWidth);\n",
    "    modelgce.SetStatistics(useQStats);\n",
    "    // Include quantum statistics for mesons only\n",
    "    if (useQStats){\n",
    "        for (int i = 0; i < modelgce.TPS()->Particles().size(); ++i) {\n",
    "            ThermalParticle &part = modelgce.TPS()->Particle(i);\n",
    "            if (part.BaryonCharge() != 0)\n",
    "                part.UseStatistics(false);\n",
    "        }\n",
    "    }\n",
    "\n",
    "    modelgce.SetTemperature(Tch);\n",
    "    modelgce.SetBaryonChemicalPotential(0.);\n",
    "    modelgce.SetElectricChemicalPotential(0.);\n",
    "    modelgce.SetStrangenessChemicalPotential(0.);\n",
    "\n",
    "    modelgce.FillChemicalPotentials();\n",
    "\n",
    "    modelgce.CalculateDensities();\n",
    "\n",
    "    for (int i = 0; i < names1.size(); ++i) {\n",
    "        ratiosGCE.push_back(modelgce.GetDensity(pdgs1[i], 1) / modelgce.GetDensity(pdgs2[i], 1));\n",
    "    }\n",
    "}"
   ]
  },
  {
   "cell_type": "markdown",
   "metadata": {},
   "source": [
    "Prepare the output (on the screen and to a file)"
   ]
  },
  {
   "cell_type": "code",
   "execution_count": 8,
   "metadata": {},
   "outputs": [],
   "source": [
    "vector<std::ostream*> outs;\n",
    "outs.push_back(&std::cout);\n",
    "\n",
    "outs.push_back(NULL);"
   ]
  },
  {
   "cell_type": "markdown",
   "metadata": {},
   "source": [
    "Routine performing the (logarithmic scale) scan over Vc and dNpi/dy.\n",
    "\n",
    "Parameter k determines Vc = k dV/dy"
   ]
  },
  {
   "cell_type": "code",
   "execution_count": 9,
   "metadata": {},
   "outputs": [],
   "source": [
    "void PerformScan(ThermalModelBase *model, \n",
    "                   double k,\n",
    "                   const string& filename)\n",
    "{\n",
    "    ofstream fout(filename);\n",
    "    outs[1] = &fout;\n",
    "    \n",
    "    for(std::ostream* out : outs) {\n",
    "        *out << setw(15) << \"dNpipm/dy\";\n",
    "        *out << setw(15) << \"Vc[fm3]\";\n",
    "\n",
    "        for (int i = 0; i < names1.size(); ++i) {\n",
    "            *out << setw(15) << \"(\" + (names1[i] + \"/\" + names2[i]) + \")toHML\";\n",
    "        }\n",
    "\n",
    "        *out << endl;\n",
    "    }\n",
    "    \n",
    "    double Vmin = 1. * k;\n",
    "    double Vmax = 15000. * k;\n",
    "    int iters = 30;\n",
    "    double logVmin = log10(Vmin), logVmax = log10(Vmax);\n",
    "    double dlogV = (logVmax - logVmin) / (iters - 1);\n",
    "    \n",
    "    for (double logV = logVmin; logV <= logVmax + 1.e-3; logV += dlogV) {\n",
    "        double V = pow(10., logV);\n",
    "\n",
    "        model->SetVolume(V);\n",
    "        model->SetCanonicalVolume(V);\n",
    "        model->CalculateDensities();\n",
    "\n",
    "        for(std::ostream* out : outs) {\n",
    "            *out << setw(15) << 2. * model->GetDensity(211, 1) * V / k; // Charged pions dN/dy\n",
    "            *out << setw(15) << V; // Vc\n",
    "\n",
    "            for (int i = 0; i < names1.size(); ++i) {\n",
    "                *out << setw(15) << model->GetDensity(pdgs1[i], 1) / model->GetDensity(pdgs2[i], 1) / ratiosGCE[i];\n",
    "            }\n",
    "\n",
    "            *out << endl;\n",
    "        }\n",
    "    }\n",
    "    \n",
    "    for(std::ostream* out : outs) {\n",
    "        *out << setw(15) << \"HML\";\n",
    "        *out << setw(15) << \"HML\";\n",
    "\n",
    "        for (int i = 0; i < ratiosGCE.size(); ++i) {\n",
    "            *out << setw(15) << ratiosGCE[i];\n",
    "        }\n",
    "\n",
    "        *out << endl;\n",
    "    }\n",
    "    \n",
    "    fout.close();\n",
    "}"
   ]
  },
  {
   "cell_type": "markdown",
   "metadata": {},
   "source": [
    "Perform the vanilla CSM scans"
   ]
  },
  {
   "cell_type": "code",
   "execution_count": 10,
   "metadata": {},
   "outputs": [],
   "source": [
    "ThermalModelCanonical modelce(&parts);\n",
    "\n",
    "if (useWidth)\n",
    "    modelce.SetUseWidth(ThermalParticle::eBW);\n",
    "else\n",
    "    modelce.SetUseWidth(ThermalParticle::ZeroWidth);\n",
    "\n",
    "modelce.SetStatistics(useQStats);\n",
    "// Include quantum statistics for mesons only\n",
    "if (useQStats){\n",
    "    for (int i = 0; i < modelce.TPS()->Particles().size(); ++i) {\n",
    "        ThermalParticle &part = modelce.TPS()->Particle(i);\n",
    "        if (part.BaryonCharge() != 0)\n",
    "            part.UseStatistics(false);\n",
    "    }\n",
    "}\n",
    "\n",
    "modelce.SetTemperature(Tch);\n",
    "modelce.SetBaryonChemicalPotential(0.);\n",
    "modelce.SetElectricChemicalPotential(0.);\n",
    "modelce.SetStrangenessChemicalPotential(0.);\n",
    "\n",
    "modelce.SetBaryonCharge(0);\n",
    "modelce.SetElectricCharge(0);\n",
    "modelce.SetStrangeness(0);\n",
    "\n",
    "modelce.FillChemicalPotentials();"
   ]
  },
  {
   "cell_type": "code",
   "execution_count": 11,
   "metadata": {},
   "outputs": [
    {
     "name": "stdout",
     "output_type": "stream",
     "text": [
      "      dNpipm/dy        Vc[fm3]    (K/pi)toHML   (Xi/pi)toHML  (phi/pi)toHML    (p/pi)toHML   (Om/pi)toHML   (La/pi)toHML   (K*/pi)toHML\n",
      "      0.0768496              1       0.343883     0.00291111        3.19697      0.0155662    0.000459082      0.0104024       0.128673\n",
      "       0.111546        1.39317       0.354193     0.00418306        3.06855      0.0216265    0.000680352      0.0146233       0.149968\n",
      "       0.164161        1.94091       0.368626     0.00608585        2.90487      0.0300473     0.00103266      0.0206458       0.178534\n",
      "       0.245806        2.70402       0.388846     0.00900754        2.70283      0.0417816     0.00161876      0.0293372       0.216438\n",
      "       0.375664        3.76715       0.417156      0.0136452        2.46393      0.0582317     0.00264668      0.0420808       0.266096\n",
      "       0.586957        5.24826       0.456628      0.0213026        2.19708      0.0815298     0.00456028      0.0611505       0.330182\n",
      "       0.935537        7.31171       0.510947      0.0344805        1.92056       0.114988     0.00834556      0.0903244       0.411288\n",
      "        1.50742        10.1864       0.583316      0.0579277        1.66076       0.163646      0.0162279       0.135655       0.510782\n",
      "        2.41408        14.1914       0.673247      0.0999754        1.44497       0.234305      0.0330599       0.205593       0.625772\n",
      "        3.77159         19.771       0.771288       0.172319        1.28874       0.333259      0.0681468       0.308031       0.744283\n",
      "        5.70443        27.5443       0.858074       0.283745        1.18727       0.459791       0.134683       0.441869       0.845085\n",
      "        8.40065        38.3738       0.917278       0.427186        1.12333        0.59904       0.241242       0.588973       0.911784\n",
      "        12.1492        53.4611        0.94998       0.575379         1.0822       0.725289       0.378097       0.720606       0.947513\n",
      "        17.3543        74.4802       0.967482       0.699146        1.05554       0.818825        0.51815       0.816934       0.966092\n",
      "        24.5817        103.763       0.977922       0.788586        1.03821       0.879037       0.638502       0.878432       0.977024\n",
      "         34.631         144.56       0.984716       0.850392         1.0267       0.916966       0.732951       0.916904       0.984117\n",
      "        48.6199        201.396       0.989301       0.893534        1.01884       0.941976       0.804501       0.942115       0.988897\n",
      "        68.1021        280.578       0.992455       0.924013        1.01336        0.95907       0.857753       0.959261       0.992178\n",
      "        95.2399        390.892       0.994651       0.945671        1.00952       0.970965       0.896928       0.971148       0.994459\n",
      "        133.045        544.578       0.996194        0.96111        1.00679       0.979329       0.925525       0.979483        0.99606\n",
      "        185.711        758.688       0.997286        0.97214        1.00486       0.985248       0.946292       0.985369       0.997191\n",
      "        259.083        1056.98       0.998063       0.980033        1.00348       0.989455       0.961326        0.98955       0.997996\n",
      "        361.301        1472.55       0.998614       0.985683        1.00249       0.992453       0.972177       0.992524       0.998566\n",
      "        503.715         2051.5       0.998996       0.989717        1.00177       0.994591       0.979967       0.994637       0.998962\n",
      "        702.115        2858.09       0.999276       0.992616        1.00127       0.996123       0.985588       0.996154       0.999252\n",
      "        978.489        3981.79       0.999507       0.994742        1.00093       0.997226       0.989743       0.997263       0.999489\n",
      "        1363.52         5547.3       0.999675        0.99627         1.0007       0.998017       0.992729       0.998059       0.999662\n",
      "        1899.98        7728.32       0.999755       0.997285        1.00051       0.998578       0.994662       0.998604       0.999746\n",
      "        2647.43        10766.8       0.999779       0.997958        1.00034       0.998973       0.995918        0.99897       0.999772\n",
      "         3688.8          15000       0.999812       0.998499         1.0002       0.999255       0.997003       0.999236       0.999807\n",
      "            HML            HML       0.179618     0.00521761      0.0232506      0.0553682    0.000862914      0.0320184       0.053049\n"
     ]
    }
   ],
   "source": [
    "PerformScan(&modelce, 1., \"out/1906.03145.3_VanillaCSM.dy1.dat\");"
   ]
  },
  {
   "cell_type": "code",
   "execution_count": 12,
   "metadata": {},
   "outputs": [
    {
     "name": "stdout",
     "output_type": "stream",
     "text": [
      "      dNpipm/dy        Vc[fm3]    (K/pi)toHML   (Xi/pi)toHML  (phi/pi)toHML    (p/pi)toHML   (Om/pi)toHML   (La/pi)toHML   (K*/pi)toHML\n",
      "      0.0933613              3       0.396715      0.0102303        2.63171      0.0463451     0.00187883      0.0328086       0.230608\n",
      "       0.143668         4.1795       0.428155      0.0156327        2.38268      0.0646662     0.00311945      0.0472332       0.284491\n",
      "       0.225991        5.82274       0.471869      0.0246704        2.11038      0.0907199     0.00547394      0.0689698       0.353653\n",
      "       0.361925        8.11205       0.531583      0.0404109        1.83601       0.128304      0.0102148       0.102429       0.440489\n",
      "       0.583287        11.3014       0.609817      0.0685933        1.58734       0.183067       0.020203       0.154481       0.545478\n",
      "       0.928507        15.7448       0.703856       0.118804        1.38944       0.262074      0.0415087       0.233959       0.663398\n",
      "        1.43606        21.9351       0.800704       0.202917        1.25179       0.370314      0.0849816       0.347072       0.778833\n",
      "        2.15181        30.5593       0.879916       0.326197        1.16404       0.503155       0.163754       0.487826       0.869915\n",
      "        3.14842        42.5742        0.92988       0.474693        1.10848       0.641224       0.281936       0.633169       0.925684\n",
      "        4.53342         59.313       0.956593       0.617717        1.07257       0.758536       0.423012       0.754956       0.954581\n",
      "        6.45619        82.6328       0.971286       0.730725         1.0493       0.840828       0.558573       0.839457       0.970083\n",
      "        9.12697        115.121       0.980354       0.810448         1.0341       0.892773       0.670816       0.892393       0.979564\n",
      "        12.8421        160.383       0.986345       0.865575        1.02392       0.925888       0.757612       0.925914       0.985817\n",
      "        18.0148        223.441       0.990416       0.904232        1.01691       0.948025        0.82294       0.948191       0.990058\n",
      "        25.2192         311.29       0.993229       0.931604        1.01201       0.963262        0.87136       0.963454       0.992982\n",
      "        35.2551        433.679       0.995194       0.951078        1.00856       0.973905       0.906881        0.97408       0.995022\n",
      "        49.2359        604.187       0.996577       0.964971        1.00611       0.981406       0.932762       0.981549       0.996457\n",
      "        68.7129        841.734       0.997558       0.974901        1.00437       0.986722       0.951536       0.986835       0.997473\n",
      "        95.8469        1172.68       0.998257        0.98201        1.00313       0.990505       0.965115       0.990593       0.998197\n",
      "         133.65        1633.73       0.998749       0.987096        1.00224       0.993202       0.974902       0.993265       0.998706\n",
      "        186.318        2276.06       0.999091       0.990727        1.00159       0.995127       0.981922       0.995166       0.999061\n",
      "        259.687        3170.93       0.999353       0.993353        1.00115       0.996508       0.987024       0.996539       0.999331\n",
      "        361.894        4417.64       0.999568       0.995281        1.00085       0.997503         0.9908       0.997543       0.999552\n",
      "        504.289        6154.51       0.999709       0.996637        1.00064       0.998214       0.993437       0.998254       0.999698\n",
      "        702.689        8574.26       0.999765       0.997522        1.00045       0.998717       0.995102       0.998734       0.999757\n",
      "        979.119        11945.4       0.999785       0.998134        1.00029       0.999071        0.99626       0.999061       0.999779\n",
      "        1364.24        16641.9        0.99983       0.998658        1.00017       0.999327       0.997342       0.999308       0.999826\n",
      "        1900.73          23185         0.9999       0.999117        1.00011       0.999516       0.998339       0.999507       0.999898\n",
      "        2648.11        32300.5       0.999956       0.999442        1.00008       0.999654       0.999029       0.999659       0.999955\n",
      "        3689.31          45000       0.999983       0.999629        1.00007       0.999753       0.999383       0.999765       0.999982\n",
      "            HML            HML       0.179618     0.00521761      0.0232506      0.0553682    0.000862914      0.0320184       0.053049\n"
     ]
    }
   ],
   "source": [
    "PerformScan(&modelce, 3., \"out/1906.03145.3_VanillaCSM.dy3.dat\");"
   ]
  },
  {
   "cell_type": "code",
   "execution_count": 13,
   "metadata": {},
   "outputs": [
    {
     "name": "stdout",
     "output_type": "stream",
     "text": [
      "      dNpipm/dy        Vc[fm3]    (K/pi)toHML   (Xi/pi)toHML  (phi/pi)toHML    (p/pi)toHML   (Om/pi)toHML   (La/pi)toHML   (K*/pi)toHML\n",
      "       0.117839              6       0.476557      0.0257559        2.08527      0.0935745     0.00577681      0.0714302       0.360751\n",
      "       0.188941          8.359       0.537883      0.0423343        1.81203       0.132451      0.0108404       0.106249        0.44926\n",
      "       0.304414        11.6455       0.617782      0.0720539        1.56706       0.189108      0.0215388       0.160406       0.555759\n",
      "       0.483579        16.2241       0.712785       0.124851        1.37454       0.270635      0.0443289       0.242776       0.674257\n",
      "       0.745693        22.6029        0.80889       0.212498        1.24206       0.381501       0.090481       0.358896       0.788376\n",
      "        1.11452        31.4896        0.88566       0.338977        1.15793       0.515818       0.172907       0.501228       0.876404\n",
      "        1.62791        43.8703       0.933071       0.488345        1.10456       0.653039       0.294161       0.645509       0.929179\n",
      "        2.34128        61.1186       0.958279       0.629375        1.07003       0.767468       0.435895       0.764163       0.956374\n",
      "        3.33162        85.1484       0.972282       0.739208        1.04765       0.846601       0.569803       0.845357       0.971126\n",
      "        4.70739        118.626          0.981         0.8163        1.03301       0.896388       0.679669       0.896063       0.980239\n",
      "        6.62136        165.266        0.98678       0.869653        1.02317       0.928261       0.764333       0.928308        0.98627\n",
      "        9.28633        230.243       0.990715       0.907111        1.01639       0.949644        0.82795       0.949816       0.990369\n",
      "        12.9982        320.767       0.993437        0.93365        1.01165       0.964387       0.875049       0.964579       0.993198\n",
      "        18.1688        446.881        0.99534       0.952536         1.0083       0.974696       0.909575       0.974868       0.995174\n",
      "         25.372         622.58        0.99668       0.966012        1.00593       0.981965        0.93472       0.982106       0.996564\n",
      "        35.4069        867.358       0.997631       0.975646        1.00424        0.98712       0.952953        0.98723       0.997549\n",
      "        49.3869        1208.37       0.998309       0.982544        1.00304       0.990788       0.966139       0.990874       0.998251\n",
      "         68.864        1683.47       0.998785       0.987477        1.00217       0.993404       0.975637       0.993464       0.998744\n",
      "        95.9994        2345.35       0.999117          0.991        1.00154       0.995271       0.982451       0.995309       0.999088\n",
      "        133.801        3267.47       0.999375       0.993553        1.00111       0.996612       0.987415       0.996644       0.999353\n",
      "         186.46        4552.13       0.999584       0.995427        1.00083       0.997577       0.991084       0.997618       0.999569\n",
      "        259.825        6341.87       0.999718       0.996735        1.00062       0.998267       0.993623       0.998306       0.999706\n",
      "        362.046        8835.28       0.999768       0.997585        1.00043       0.998754       0.995219       0.998769       0.999759\n",
      "        504.469          12309       0.999788       0.998183        1.00028       0.999098       0.996357       0.999086       0.999782\n",
      "        702.889        17148.5       0.999835       0.998704        1.00017       0.999346       0.997439       0.999328       0.999832\n",
      "          979.3        23890.8       0.999906       0.999153        1.00011        0.99953       0.998416       0.999523       0.999904\n",
      "        1364.37        33283.8        0.99996       0.999464        1.00008       0.999664       0.999073       0.999671       0.999959\n",
      "        1900.81        46369.9       0.999984        0.99964        1.00007       0.999761       0.999403       0.999773       0.999983\n",
      "        2648.16          64601       0.999993        0.99974        1.00006        0.99983       0.999555       0.999844       0.999992\n",
      "        3689.35          90000              1       0.999808        1.00006       0.999882       0.999649       0.999894       0.999999\n",
      "            HML            HML       0.179618     0.00521761      0.0232506      0.0553682    0.000862914      0.0320184       0.053049\n"
     ]
    }
   ],
   "source": [
    "PerformScan(&modelce, 6., \"out/1906.03145.3_VanillaCSM.dy6.dat\");"
   ]
  }
 ],
 "metadata": {
  "kernelspec": {
   "display_name": "C++17",
   "language": "C++17",
   "name": "xcpp17"
  },
  "language_info": {
   "codemirror_mode": "text/x-c++src",
   "file_extension": ".cpp",
   "mimetype": "text/x-c++src",
   "name": "c++",
   "version": "-std=c++17"
  }
 },
 "nbformat": 4,
 "nbformat_minor": 2
}
